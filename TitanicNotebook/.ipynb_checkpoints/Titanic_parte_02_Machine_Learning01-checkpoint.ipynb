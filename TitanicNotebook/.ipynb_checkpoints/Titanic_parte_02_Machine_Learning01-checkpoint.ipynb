{
 "cells": [
  {
   "cell_type": "markdown",
   "metadata": {},
   "source": [
    "## Cargando nuestra sesion"
   ]
  },
  {
   "cell_type": "code",
   "execution_count": null,
   "metadata": {},
   "outputs": [],
   "source": [
    "from google.colab import drive\n",
    "drive.mount('/content/drive')"
   ]
  },
  {
   "cell_type": "code",
   "execution_count": null,
   "metadata": {},
   "outputs": [],
   "source": [
    "cd #Acá pon la dirección de tu drive."
   ]
  },
  {
   "cell_type": "code",
   "execution_count": 1,
   "metadata": {},
   "outputs": [],
   "source": [
    "import warnings\n",
    "warnings.filterwarnings('ignore')"
   ]
  },
  {
   "cell_type": "code",
   "execution_count": 3,
   "metadata": {},
   "outputs": [],
   "source": [
    "import dill\n",
    "dill.load_session('Titanic01.db')"
   ]
  },
  {
   "cell_type": "code",
   "execution_count": 4,
   "metadata": {},
   "outputs": [],
   "source": [
    "train['P_embarque'].fillna(2,inplace=True)"
   ]
  },
  {
   "cell_type": "markdown",
   "metadata": {},
   "source": [
    "## Recordando las variables"
   ]
  },
  {
   "cell_type": "code",
   "execution_count": 6,
   "metadata": {},
   "outputs": [
    {
     "data": {
      "text/html": [
       "<div>\n",
       "<style scoped>\n",
       "    .dataframe tbody tr th:only-of-type {\n",
       "        vertical-align: middle;\n",
       "    }\n",
       "\n",
       "    .dataframe tbody tr th {\n",
       "        vertical-align: top;\n",
       "    }\n",
       "\n",
       "    .dataframe thead th {\n",
       "        text-align: right;\n",
       "    }\n",
       "</style>\n",
       "<table border=\"1\" class=\"dataframe\">\n",
       "  <thead>\n",
       "    <tr style=\"text-align: right;\">\n",
       "      <th></th>\n",
       "      <th>Sobrevivio</th>\n",
       "      <th>Pclass</th>\n",
       "      <th>Genero</th>\n",
       "      <th>Edad</th>\n",
       "      <th>Hermanos</th>\n",
       "      <th>Padres_hijos</th>\n",
       "      <th>Tarifa</th>\n",
       "      <th>P_embarque</th>\n",
       "      <th>Miembros_de_fam</th>\n",
       "      <th>Viaja_solo</th>\n",
       "      <th>es_niño</th>\n",
       "    </tr>\n",
       "  </thead>\n",
       "  <tbody>\n",
       "    <tr>\n",
       "      <th>0</th>\n",
       "      <td>0</td>\n",
       "      <td>3</td>\n",
       "      <td>0</td>\n",
       "      <td>0.022824</td>\n",
       "      <td>1</td>\n",
       "      <td>0</td>\n",
       "      <td>0.006032</td>\n",
       "      <td>2.0</td>\n",
       "      <td>2</td>\n",
       "      <td>0</td>\n",
       "      <td>0</td>\n",
       "    </tr>\n",
       "    <tr>\n",
       "      <th>1</th>\n",
       "      <td>1</td>\n",
       "      <td>1</td>\n",
       "      <td>2</td>\n",
       "      <td>0.039423</td>\n",
       "      <td>1</td>\n",
       "      <td>0</td>\n",
       "      <td>0.059304</td>\n",
       "      <td>1.0</td>\n",
       "      <td>2</td>\n",
       "      <td>0</td>\n",
       "      <td>0</td>\n",
       "    </tr>\n",
       "    <tr>\n",
       "      <th>2</th>\n",
       "      <td>1</td>\n",
       "      <td>3</td>\n",
       "      <td>2</td>\n",
       "      <td>0.026974</td>\n",
       "      <td>0</td>\n",
       "      <td>0</td>\n",
       "      <td>0.006593</td>\n",
       "      <td>2.0</td>\n",
       "      <td>1</td>\n",
       "      <td>1</td>\n",
       "      <td>0</td>\n",
       "    </tr>\n",
       "    <tr>\n",
       "      <th>3</th>\n",
       "      <td>1</td>\n",
       "      <td>1</td>\n",
       "      <td>2</td>\n",
       "      <td>0.036311</td>\n",
       "      <td>1</td>\n",
       "      <td>0</td>\n",
       "      <td>0.044176</td>\n",
       "      <td>2.0</td>\n",
       "      <td>2</td>\n",
       "      <td>0</td>\n",
       "      <td>0</td>\n",
       "    </tr>\n",
       "    <tr>\n",
       "      <th>4</th>\n",
       "      <td>0</td>\n",
       "      <td>3</td>\n",
       "      <td>0</td>\n",
       "      <td>0.036311</td>\n",
       "      <td>0</td>\n",
       "      <td>0</td>\n",
       "      <td>0.006697</td>\n",
       "      <td>2.0</td>\n",
       "      <td>1</td>\n",
       "      <td>1</td>\n",
       "      <td>0</td>\n",
       "    </tr>\n",
       "  </tbody>\n",
       "</table>\n",
       "</div>"
      ],
      "text/plain": [
       "   Sobrevivio  Pclass  Genero      Edad  Hermanos   ...       Tarifa  P_embarque  Miembros_de_fam  Viaja_solo  es_niño\n",
       "0           0       3       0  0.022824         1   ...     0.006032         2.0                2           0        0\n",
       "1           1       1       2  0.039423         1   ...     0.059304         1.0                2           0        0\n",
       "2           1       3       2  0.026974         0   ...     0.006593         2.0                1           1        0\n",
       "3           1       1       2  0.036311         1   ...     0.044176         2.0                2           0        0\n",
       "4           0       3       0  0.036311         0   ...     0.006697         2.0                1           1        0\n",
       "\n",
       "[5 rows x 11 columns]"
      ]
     },
     "execution_count": 6,
     "metadata": {},
     "output_type": "execute_result"
    }
   ],
   "source": [
    "train.head()"
   ]
  },
  {
   "cell_type": "code",
   "execution_count": 7,
   "metadata": {},
   "outputs": [
    {
     "data": {
      "text/html": [
       "<div>\n",
       "<style scoped>\n",
       "    .dataframe tbody tr th:only-of-type {\n",
       "        vertical-align: middle;\n",
       "    }\n",
       "\n",
       "    .dataframe tbody tr th {\n",
       "        vertical-align: top;\n",
       "    }\n",
       "\n",
       "    .dataframe thead th {\n",
       "        text-align: right;\n",
       "    }\n",
       "</style>\n",
       "<table border=\"1\" class=\"dataframe\">\n",
       "  <thead>\n",
       "    <tr style=\"text-align: right;\">\n",
       "      <th></th>\n",
       "      <th>Pclass</th>\n",
       "      <th>Genero</th>\n",
       "      <th>Edad</th>\n",
       "      <th>Hermanos</th>\n",
       "      <th>Padres_hijos</th>\n",
       "      <th>Tarifa</th>\n",
       "      <th>P_embarque</th>\n",
       "      <th>Miembros_de_fam</th>\n",
       "      <th>Viaja_solo</th>\n",
       "      <th>es_niño</th>\n",
       "    </tr>\n",
       "  </thead>\n",
       "  <tbody>\n",
       "    <tr>\n",
       "      <th>0</th>\n",
       "      <td>3</td>\n",
       "      <td>0</td>\n",
       "      <td>0.051826</td>\n",
       "      <td>0</td>\n",
       "      <td>0</td>\n",
       "      <td>0.007803</td>\n",
       "      <td>0</td>\n",
       "      <td>1</td>\n",
       "      <td>1</td>\n",
       "      <td>0</td>\n",
       "    </tr>\n",
       "    <tr>\n",
       "      <th>1</th>\n",
       "      <td>3</td>\n",
       "      <td>2</td>\n",
       "      <td>0.070603</td>\n",
       "      <td>1</td>\n",
       "      <td>0</td>\n",
       "      <td>0.006977</td>\n",
       "      <td>2</td>\n",
       "      <td>2</td>\n",
       "      <td>1</td>\n",
       "      <td>0</td>\n",
       "    </tr>\n",
       "    <tr>\n",
       "      <th>2</th>\n",
       "      <td>2</td>\n",
       "      <td>0</td>\n",
       "      <td>0.093136</td>\n",
       "      <td>0</td>\n",
       "      <td>0</td>\n",
       "      <td>0.009656</td>\n",
       "      <td>0</td>\n",
       "      <td>1</td>\n",
       "      <td>1</td>\n",
       "      <td>0</td>\n",
       "    </tr>\n",
       "    <tr>\n",
       "      <th>3</th>\n",
       "      <td>3</td>\n",
       "      <td>0</td>\n",
       "      <td>0.040559</td>\n",
       "      <td>0</td>\n",
       "      <td>0</td>\n",
       "      <td>0.008634</td>\n",
       "      <td>2</td>\n",
       "      <td>1</td>\n",
       "      <td>1</td>\n",
       "      <td>0</td>\n",
       "    </tr>\n",
       "    <tr>\n",
       "      <th>4</th>\n",
       "      <td>3</td>\n",
       "      <td>2</td>\n",
       "      <td>0.033048</td>\n",
       "      <td>1</td>\n",
       "      <td>1</td>\n",
       "      <td>0.012247</td>\n",
       "      <td>2</td>\n",
       "      <td>3</td>\n",
       "      <td>1</td>\n",
       "      <td>0</td>\n",
       "    </tr>\n",
       "  </tbody>\n",
       "</table>\n",
       "</div>"
      ],
      "text/plain": [
       "   Pclass  Genero      Edad  Hermanos  Padres_hijos    Tarifa  P_embarque  Miembros_de_fam  Viaja_solo  es_niño\n",
       "0       3       0  0.051826         0             0  0.007803           0                1           1        0\n",
       "1       3       2  0.070603         1             0  0.006977           2                2           1        0\n",
       "2       2       0  0.093136         0             0  0.009656           0                1           1        0\n",
       "3       3       0  0.040559         0             0  0.008634           2                1           1        0\n",
       "4       3       2  0.033048         1             1  0.012247           2                3           1        0"
      ]
     },
     "execution_count": 7,
     "metadata": {},
     "output_type": "execute_result"
    }
   ],
   "source": [
    "summit.head()"
   ]
  },
  {
   "cell_type": "markdown",
   "metadata": {},
   "source": [
    "# Machine Learning\n",
    "\n",
    "-Logistic regression vs SVM"
   ]
  },
  {
   "cell_type": "markdown",
   "metadata": {},
   "source": [
    "Importaremos de esta manera los archivos csv donde encontraremos la data que nos interesa. Se puede observar que tenemos dos conjuntos de datos: **train** y **test**. Esto es porque el **objetivo** es hacer un modelo de aprendizaje automático (machine learning), específicamente uno supervizado que nos prediga si el pasajero **sobrevive** o **no sobrevive**. Se divide la data porque cierto grupo de datos nos servirá para **entrenar** el modelo y el otro grupo de datos para **testearlo**. Luego de hacer el respectivo testeo del modelo podremos mandarlo a producción, es decir, que interactúe con data real.    "
   ]
  },
  {
   "cell_type": "code",
   "execution_count": 8,
   "metadata": {
    "scrolled": true
   },
   "outputs": [],
   "source": [
    "X_train = train.drop('Sobrevivio',axis=1)\n",
    "y_train = train['Sobrevivio']\n",
    "X_test_final = summit"
   ]
  },
  {
   "cell_type": "markdown",
   "metadata": {},
   "source": [
    "### Dividiremos nuestra data para poder entrenar y evaluar nuestros modelos."
   ]
  },
  {
   "cell_type": "code",
   "execution_count": 9,
   "metadata": {},
   "outputs": [],
   "source": [
    "#Dense cuenta de que se importa desde model_selection, porque efectivamente sirve para poder seleccionar nuestros modelos\n",
    "from sklearn.model_selection import train_test_split\n",
    "\n",
    "from sklearn.metrics import accuracy_score #Vamos a medir el accuracy de nuestro modelo... "
   ]
  },
  {
   "cell_type": "code",
   "execution_count": 10,
   "metadata": {},
   "outputs": [],
   "source": [
    "#Dividing the data before tuning the model\n",
    "X_train, X_test, y_train, y_test= train_test_split(X_train,y_train,test_size = 0.3, \n",
    "                                                    random_state=21)"
   ]
  },
  {
   "cell_type": "code",
   "execution_count": 9,
   "metadata": {},
   "outputs": [],
   "source": [
    "#Explorar los nuevos datos partidos"
   ]
  },
  {
   "cell_type": "markdown",
   "metadata": {},
   "source": [
    "- Los pasos para entrenar un modelo son simples: Fitear y predecir. Nada más. Luego haremos algunas métricas para poder ver qué tan bien nos ha servido nuestro clasificador. "
   ]
  },
  {
   "cell_type": "markdown",
   "metadata": {},
   "source": [
    "### Regresión Logística con Python. \n",
    "\n",
    "La famosa Regresión Logística es el modelo más básico (y no le quita lo poderoso) de los modelos disponibles dentro de la librería scikit learn. Veamos como podemos ponerlo a prueba. "
   ]
  },
  {
   "cell_type": "code",
   "execution_count": 10,
   "metadata": {},
   "outputs": [
    {
     "data": {
      "text/plain": [
       "LogisticRegression(C=1.0, class_weight=None, dual=False, fit_intercept=True,\n",
       "          intercept_scaling=1, max_iter=100, multi_class='warn',\n",
       "          n_jobs=None, penalty='l2', random_state=None, solver='warn',\n",
       "          tol=0.0001, verbose=0, warm_start=False)"
      ]
     },
     "execution_count": 10,
     "metadata": {},
     "output_type": "execute_result"
    }
   ],
   "source": [
    "from sklearn.linear_model import LogisticRegression\n",
    "#Logistic Regression:\n",
    "logreg = LogisticRegression()\n",
    "\n",
    "logreg.fit(X_train, y_train)"
   ]
  },
  {
   "cell_type": "markdown",
   "metadata": {},
   "source": [
    "- Una vez hecho el fiteo de los datos. Tenemos nuestro modelo **almacenado** y **entrenado** en la variable **LogReg** "
   ]
  },
  {
   "cell_type": "code",
   "execution_count": 11,
   "metadata": {},
   "outputs": [],
   "source": [
    "logreg_pred = logreg.predict(X_test)\n",
    "#show"
   ]
  },
  {
   "cell_type": "code",
   "execution_count": 12,
   "metadata": {
    "scrolled": true
   },
   "outputs": [
    {
     "name": "stdout",
     "output_type": "stream",
     "text": [
      "El accuracy para mi primero modelo es :0.83208955\n"
     ]
    }
   ],
   "source": [
    "print('El accuracy para mi primero modelo es :{0:.8f}'.format(accuracy_score(y_test,logreg_pred)))"
   ]
  },
  {
   "cell_type": "markdown",
   "metadata": {},
   "source": [
    "#### Intentaremos hacer un poquito mejor nuestro modelo: \n",
    "\n",
    "\n",
    "- Lo chévere de nuestro modelo de Regresión Logística es que nos permite ver las probabilidades que ha generado con cada fila de datos. Es decir, nos dice qué tan probable es (según nuestro modelo) que el pasajero N haya sobrevivido a la catástrofe del Titanic. "
   ]
  },
  {
   "cell_type": "code",
   "execution_count": 13,
   "metadata": {},
   "outputs": [
    {
     "data": {
      "text/html": [
       "<div>\n",
       "<style scoped>\n",
       "    .dataframe tbody tr th:only-of-type {\n",
       "        vertical-align: middle;\n",
       "    }\n",
       "\n",
       "    .dataframe tbody tr th {\n",
       "        vertical-align: top;\n",
       "    }\n",
       "\n",
       "    .dataframe thead th {\n",
       "        text-align: right;\n",
       "    }\n",
       "</style>\n",
       "<table border=\"1\" class=\"dataframe\">\n",
       "  <thead>\n",
       "    <tr style=\"text-align: right;\">\n",
       "      <th></th>\n",
       "      <th>feature</th>\n",
       "      <th>beta</th>\n",
       "    </tr>\n",
       "  </thead>\n",
       "  <tbody>\n",
       "    <tr>\n",
       "      <th>0</th>\n",
       "      <td>Pclass</td>\n",
       "      <td>-0.8476</td>\n",
       "    </tr>\n",
       "    <tr>\n",
       "      <th>1</th>\n",
       "      <td>Genero</td>\n",
       "      <td>1.5162</td>\n",
       "    </tr>\n",
       "    <tr>\n",
       "      <th>2</th>\n",
       "      <td>Edad</td>\n",
       "      <td>-0.1184</td>\n",
       "    </tr>\n",
       "    <tr>\n",
       "      <th>3</th>\n",
       "      <td>Hermanos</td>\n",
       "      <td>-0.5429</td>\n",
       "    </tr>\n",
       "    <tr>\n",
       "      <th>4</th>\n",
       "      <td>Padres_hijos</td>\n",
       "      <td>-0.4018</td>\n",
       "    </tr>\n",
       "    <tr>\n",
       "      <th>5</th>\n",
       "      <td>Tarifa</td>\n",
       "      <td>0.1354</td>\n",
       "    </tr>\n",
       "    <tr>\n",
       "      <th>6</th>\n",
       "      <td>P_embarque</td>\n",
       "      <td>-0.1328</td>\n",
       "    </tr>\n",
       "    <tr>\n",
       "      <th>7</th>\n",
       "      <td>Miembros_de_fam</td>\n",
       "      <td>0.0097</td>\n",
       "    </tr>\n",
       "    <tr>\n",
       "      <th>8</th>\n",
       "      <td>Viaja_solo</td>\n",
       "      <td>-0.4670</td>\n",
       "    </tr>\n",
       "    <tr>\n",
       "      <th>9</th>\n",
       "      <td>es_niño</td>\n",
       "      <td>1.6867</td>\n",
       "    </tr>\n",
       "  </tbody>\n",
       "</table>\n",
       "</div>"
      ],
      "text/plain": [
       "           feature    beta\n",
       "0           Pclass -0.8476\n",
       "1           Genero  1.5162\n",
       "2             Edad -0.1184\n",
       "3         Hermanos -0.5429\n",
       "4     Padres_hijos -0.4018\n",
       "5           Tarifa  0.1354\n",
       "6       P_embarque -0.1328\n",
       "7  Miembros_de_fam  0.0097\n",
       "8       Viaja_solo -0.4670\n",
       "9          es_niño  1.6867"
      ]
     },
     "execution_count": 13,
     "metadata": {},
     "output_type": "execute_result"
    }
   ],
   "source": [
    "#Quiero saber qué coeficientes de la ecuación logística mi modelo me está botando... \n",
    "\n",
    "#Esto también es una forma de decir qué tanto mi modelo valora cada variable predictora\n",
    "df_weights = pd.DataFrame({'feature':X_train.columns.values, 'beta': np.round(logreg.coef_[0],4) })\n",
    "df_weights"
   ]
  },
  {
   "cell_type": "code",
   "execution_count": 14,
   "metadata": {},
   "outputs": [],
   "source": [
    "proba_pred_test = logreg.predict_proba(X_test)[:,1] #  #Quiero la probabilidades de mi modelo en un array..."
   ]
  },
  {
   "cell_type": "code",
   "execution_count": 15,
   "metadata": {},
   "outputs": [
    {
     "data": {
      "text/plain": [
       "[<matplotlib.lines.Line2D at 0x19cac858ef0>]"
      ]
     },
     "execution_count": 15,
     "metadata": {},
     "output_type": "execute_result"
    },
    {
     "data": {
      "image/png": "[encoded data removed]",
      "text/plain": [
       "<Figure size 576x432 with 1 Axes>"
      ]
     },
     "metadata": {
      "needs_background": "light"
     },
     "output_type": "display_data"
    }
   ],
   "source": [
    "lista_de_accuracy = []\n",
    "for punto_de_corte in range(0,100):\n",
    "    pred_0_1 = [1 if x >= punto_de_corte/100 else 0 for x in proba_pred_test]\n",
    "    lista_de_accuracy.append(accuracy_score(y_test, pred_0_1))\n",
    "\n",
    "xs = [x/100 for x in range(0,100)]\n",
    "ys = lista_de_accuracy\n",
    "plt.figure(figsize=(8,6))\n",
    "plt.grid(True)\n",
    "plt.title('Esta es nuestra curva punto de corte vs accuracy')\n",
    "plt.xlabel('Punto de corte')\n",
    "plt.ylabel('Accuracy')\n",
    "plt.plot(xs, ys)"
   ]
  },
  {
   "cell_type": "markdown",
   "metadata": {},
   "source": [
    "-  Cuál es entonces el punto de corte óptimo para maximizar nuestro accuracy? Ahora tendremos que **probar el modelo con ese punto de corte**"
   ]
  },
  {
   "cell_type": "code",
   "execution_count": 16,
   "metadata": {},
   "outputs": [
    {
     "data": {
      "text/plain": [
       "array([[1, 0, 0, 0, 0, 0, 0, 0, 0, 0, 0, 1, 0, 0, 0, 0, 0, 0, 1, 1, 0, 1,\n",
       "        0, 0, 1, 1, 0, 1, 1, 1, 0, 1, 0, 0, 0, 1, 1, 1, 0, 0, 1, 0, 1, 0,\n",
       "        0, 0, 0, 0, 1, 0, 0, 0, 0, 0, 0, 0, 0, 0, 0, 0, 1, 0, 1, 0, 0, 0,\n",
       "        1, 1, 1, 1, 0, 0, 1, 0, 0, 1, 0, 1, 1, 0, 1, 1, 1, 1, 0, 0, 1, 1,\n",
       "        1, 1, 1, 0, 0, 0, 1, 1, 0, 0, 1, 1, 0, 1, 0, 0, 1, 1, 1, 0, 0, 0,\n",
       "        0, 0, 0, 1, 0, 0, 0, 0, 1, 0, 1, 0, 0, 0, 0, 0, 0, 1, 1, 0, 0, 0,\n",
       "        0, 0, 1, 0, 0, 0, 0, 1, 0, 1, 0, 0, 0, 0, 1, 1, 1, 0, 0, 1, 0, 0,\n",
       "        0, 1, 0, 0, 1, 1, 0, 1, 0, 0, 0, 0, 0, 0, 1, 1, 0, 0, 0, 0, 1, 1,\n",
       "        1, 0, 0, 0, 0, 1, 1, 0, 0, 0, 1, 1, 0, 0, 0, 1, 1, 1, 0, 0, 0, 1,\n",
       "        1, 1, 0, 0, 1, 0, 1, 0, 1, 0, 0, 0, 0, 1, 0, 0, 0, 0, 0, 0, 0, 0,\n",
       "        0, 0, 0, 1, 1, 0, 0, 1, 1, 0, 0, 1, 0, 0, 0, 0, 1, 1, 1, 1, 0, 1,\n",
       "        1, 0, 1, 1, 0, 0, 0, 0, 0, 0, 1, 0, 0, 0, 0, 1, 0, 0, 0, 0, 1, 1,\n",
       "        0, 0, 0, 1]])"
      ]
     },
     "execution_count": 16,
     "metadata": {},
     "output_type": "execute_result"
    }
   ],
   "source": [
    "predicciones_nuevo_pc = [1 if prob>=0.39 else 0 for prob in proba_pred_test]\n",
    "np.array([predicciones_nuevo_pc])"
   ]
  },
  {
   "cell_type": "code",
   "execution_count": 17,
   "metadata": {},
   "outputs": [
    {
     "name": "stdout",
     "output_type": "stream",
     "text": [
      "El accuracy para mi primer modelo es :0.83208955\n",
      "El accuracy de mi modelo con nuevo threshold es :0.83582090\n"
     ]
    }
   ],
   "source": [
    "print('El accuracy para mi primer modelo es :{0:.8f}'.format(accuracy_score(y_test,logreg_pred)))\n",
    "print('El accuracy de mi modelo con nuevo threshold es :{0:.8f}'.format(accuracy_score(y_test,predicciones_nuevo_pc)))"
   ]
  },
  {
   "cell_type": "markdown",
   "metadata": {},
   "source": [
    "### Clasificador de Árbol de Decisión (Decision Tree Classifier) "
   ]
  },
  {
   "cell_type": "code",
   "execution_count": 18,
   "metadata": {
    "_kg_hide-output": true
   },
   "outputs": [],
   "source": [
    "from sklearn.tree import DecisionTreeClassifier\n",
    "from sklearn.metrics import accuracy_score #Para poder medir mi accuracy"
   ]
  },
  {
   "cell_type": "code",
   "execution_count": 19,
   "metadata": {},
   "outputs": [
    {
     "data": {
      "text/plain": [
       "DecisionTreeClassifier(class_weight=None, criterion='gini', max_depth=None,\n",
       "            max_features=None, max_leaf_nodes=None,\n",
       "            min_impurity_decrease=0.0, min_impurity_split=None,\n",
       "            min_samples_leaf=1, min_samples_split=2,\n",
       "            min_weight_fraction_leaf=0.0, presort=False, random_state=None,\n",
       "            splitter='best')"
      ]
     },
     "execution_count": 19,
     "metadata": {},
     "output_type": "execute_result"
    }
   ],
   "source": [
    "#Entreno mi árbol\n",
    "tree_clf = DecisionTreeClassifier()\n",
    "tree_clf.fit(X_train,y_train)"
   ]
  },
  {
   "cell_type": "code",
   "execution_count": 20,
   "metadata": {},
   "outputs": [
    {
     "name": "stdout",
     "output_type": "stream",
     "text": [
      "Mi árbol tiene un accuracy de:  0.7649253731343284\n"
     ]
    }
   ],
   "source": [
    "tree_y_predict = tree_clf.predict(X_test)\n",
    "\n",
    "print('Mi árbol tiene un accuracy de: ', accuracy_score(y_test,tree_y_predict))"
   ]
  },
  {
   "cell_type": "markdown",
   "metadata": {},
   "source": [
    "- Pero aún podemos mejorar nuestro árbol testeando **solo uno** de sus parámetros:"
   ]
  },
  {
   "cell_type": "code",
   "execution_count": 21,
   "metadata": {},
   "outputs": [
    {
     "name": "stdout",
     "output_type": "stream",
     "text": [
      "Mi árbol da un accuracy de: 0.7873134328358209 cuando su max_depth es:  1\n",
      "Mi árbol da un accuracy de: 0.8022388059701493 cuando su max_depth es:  2\n",
      "Mi árbol da un accuracy de: 0.832089552238806 cuando su max_depth es:  3\n",
      "Mi árbol da un accuracy de: 0.8059701492537313 cuando su max_depth es:  4\n",
      "Mi árbol da un accuracy de: 0.8097014925373134 cuando su max_depth es:  5\n",
      "Mi árbol da un accuracy de: 0.7873134328358209 cuando su max_depth es:  6\n",
      "Mi árbol da un accuracy de: 0.7947761194029851 cuando su max_depth es:  7\n",
      "Mi árbol da un accuracy de: 0.7798507462686567 cuando su max_depth es:  8\n",
      "Mi árbol da un accuracy de: 0.7947761194029851 cuando su max_depth es:  9\n",
      "Mi árbol da un accuracy de: 0.8097014925373134 cuando su max_depth es:  10\n",
      "Mi árbol da un accuracy de: 0.8022388059701493 cuando su max_depth es:  11\n",
      "Mi árbol da un accuracy de: 0.8059701492537313 cuando su max_depth es:  12\n",
      "Mi árbol da un accuracy de: 0.7910447761194029 cuando su max_depth es:  13\n",
      "Mi árbol da un accuracy de: 0.7873134328358209 cuando su max_depth es:  14\n",
      "Mi árbol da un accuracy de: 0.7723880597014925 cuando su max_depth es:  15\n",
      "Mi árbol da un accuracy de: 0.7723880597014925 cuando su max_depth es:  16\n",
      "Mi árbol da un accuracy de: 0.7686567164179104 cuando su max_depth es:  17\n"
     ]
    }
   ],
   "source": [
    "for i in range(1,18):\n",
    "    tree_clf = DecisionTreeClassifier(max_depth=i)\n",
    "    tree_clf.fit(X_train,y_train)\n",
    "    y_pred = tree_clf.predict(X_test)\n",
    "    print(\"Mi árbol da un accuracy de:\", accuracy_score(y_test,y_pred), \"cuando su max_depth es: \", i)"
   ]
  },
  {
   "cell_type": "markdown",
   "metadata": {},
   "source": [
    "###### Entonces vamos a elegir el resultado que haga a nuestro modelo algo mejor :) "
   ]
  },
  {
   "cell_type": "code",
   "execution_count": 22,
   "metadata": {},
   "outputs": [
    {
     "data": {
      "text/plain": [
       "DecisionTreeClassifier(class_weight=None, criterion='gini', max_depth=3,\n",
       "            max_features=None, max_leaf_nodes=None,\n",
       "            min_impurity_decrease=0.0, min_impurity_split=None,\n",
       "            min_samples_leaf=1, min_samples_split=2,\n",
       "            min_weight_fraction_leaf=0.0, presort=False, random_state=None,\n",
       "            splitter='best')"
      ]
     },
     "execution_count": 22,
     "metadata": {},
     "output_type": "execute_result"
    }
   ],
   "source": [
    "tree_clf = DecisionTreeClassifier(max_depth=3)\n",
    "tree_clf.fit(X_train,y_train)"
   ]
  },
  {
   "cell_type": "code",
   "execution_count": 23,
   "metadata": {},
   "outputs": [],
   "source": [
    "y_pred_tree = tree_clf.predict(X_test)"
   ]
  },
  {
   "cell_type": "markdown",
   "metadata": {},
   "source": [
    "## Matriz de confusión:\n",
    "\n",
    "Cuenta el número de veces en que las predicciones hechas caen en **error tipo 1** y **error tipo 2**. Así como también cuenta las buenas predicciones que ha hecho nuestro modelo. \n",
    "\n",
    "- **Error tipo1**: De manera errónea se predijo 1 cuando en realidad es 0. Es decir, nuestro algoritmo nos dijo que una personas sobrevivió cuando en realidad estaba muerta.\n",
    "\n",
    "- **Error tipo2**: De manera errónea se predijo 0 cuando en realidad es 1. Nuestro modelo nos dice que una persona ha muerto cuando en realidad ha sobrevivido.\n",
    "\n",
    "- **True Positive(Verdadero Positivo)**: Nos dice que es 1 cuando efectivamente es 1. Predice de manera correcta la supervivencia.\n",
    "\n",
    "- **False Negative (Falso Negativo)**: Nos dice que es 0 cuando de verdad es 0. Cuántos casos predice de manera correcta la no-supervivencia. \n"
   ]
  },
  {
   "cell_type": "code",
   "execution_count": 24,
   "metadata": {},
   "outputs": [
    {
     "data": {
      "text/plain": [
       "<matplotlib.axes._subplots.AxesSubplot at 0x19cad9fe470>"
      ]
     },
     "execution_count": 24,
     "metadata": {},
     "output_type": "execute_result"
    },
    {
     "data": {
      "image/png": "[encoded data removed]",
      "text/plain": [
       "<Figure size 720x504 with 2 Axes>"
      ]
     },
     "metadata": {
      "needs_background": "light"
     },
     "output_type": "display_data"
    }
   ],
   "source": [
    "#Plotearemos una matriz de confusión\n",
    "from sklearn.metrics import confusion_matrix\n",
    "\n",
    "conf_matrix = confusion_matrix(y_test,y_pred_tree) #Creo la matriz de confusón así de fácil\n",
    "\n",
    "plt.figure(figsize=(10,7))\n",
    "\n",
    "plt.title('Mi Primer Arbol de Decisión \\n Con accuracy de :{0:.3f}'.format(accuracy_score(y_test, y_pred_tree)))\n",
    "plt.xlabel('')\n",
    "plt.ylabel('')\n",
    "sns.heatmap(conf_matrix, annot = True, annot_kws={\"size\": 18}, fmt=\".1f\")"
   ]
  },
  {
   "cell_type": "code",
   "execution_count": 25,
   "metadata": {},
   "outputs": [
    {
     "data": {
      "text/plain": [
       "107"
      ]
     },
     "execution_count": 25,
     "metadata": {},
     "output_type": "execute_result"
    }
   ],
   "source": [
    "#Y si no me creen...\n",
    "#Confirmemos efectivamente lo que nuestra data nos dice:\n",
    "y_test[y_test == 1].sum()"
   ]
  },
  {
   "cell_type": "code",
   "execution_count": null,
   "metadata": {},
   "outputs": [],
   "source": []
  },
  {
   "cell_type": "code",
   "execution_count": null,
   "metadata": {},
   "outputs": [],
   "source": []
  },
  {
   "cell_type": "markdown",
   "metadata": {},
   "source": [
    "## Una evolución de los Árboles de Decisión: Bosques Aleatorios (Random Forest)\n",
    "\n",
    "- Un RandomForest es un agregado de árboles de decisiones, donde cada uno de estos árboles se entrena con diferentes partes de la data escogida de manera aleatoria. Luego de tener una cierta cantidad de árboles (500 en el ejemplo) se hace una votación para hacer cada predicción.  "
   ]
  },
  {
   "cell_type": "code",
   "execution_count": 26,
   "metadata": {},
   "outputs": [],
   "source": [
    "from sklearn.ensemble import RandomForestClassifier"
   ]
  },
  {
   "cell_type": "code",
   "execution_count": 27,
   "metadata": {},
   "outputs": [
    {
     "name": "stdout",
     "output_type": "stream",
     "text": [
      "El accuracy de mi RandomForest es: 0.832089552238806\n"
     ]
    }
   ],
   "source": [
    "#Random Forest Classifier model\n",
    "rnd_clf = RandomForestClassifier(n_estimators = 1000, n_jobs = -1,max_depth=3)\n",
    "rnd_clf.fit(X_train,y_train)\n",
    "\n",
    "#Predicting\n",
    "y_pred_rnd = rnd_clf.predict(X_test)\n",
    "\n",
    "print(\"El accuracy de mi RandomForest es:\", accuracy_score(y_test,y_pred_rnd))"
   ]
  },
  {
   "cell_type": "markdown",
   "metadata": {},
   "source": [
    "- También sacaremos matriz de confusión para este caso: "
   ]
  },
  {
   "cell_type": "code",
   "execution_count": 28,
   "metadata": {},
   "outputs": [
    {
     "data": {
      "text/plain": [
       "<matplotlib.axes._subplots.AxesSubplot at 0x19ca9d2afd0>"
      ]
     },
     "execution_count": 28,
     "metadata": {},
     "output_type": "execute_result"
    },
    {
     "data": {
      "image/png": "[encoded data removed]",
      "text/plain": [
       "<Figure size 720x504 with 2 Axes>"
      ]
     },
     "metadata": {
      "needs_background": "light"
     },
     "output_type": "display_data"
    }
   ],
   "source": [
    "from sklearn.metrics import confusion_matrix\n",
    "\n",
    "conf_matrix = confusion_matrix(y_test,y_pred_rnd) #Creo la matriz de confusón así de fácil\n",
    "\n",
    "plt.figure(figsize=(10,7))\n",
    "\n",
    "plt.title('Mi Primer Arbol de Decisión \\n Con accuracy de :{0:.3f}'.format(accuracy_score(y_test, y_pred_rnd)))\n",
    "plt.xlabel('Nuestra data nos ha dicho que')\n",
    "plt.ylabel('Nuestro algoritmo dice que')\n",
    "sns.heatmap(conf_matrix, annot = True, annot_kws={\"size\": 18}, fmt=\".1f\")"
   ]
  },
  {
   "cell_type": "markdown",
   "metadata": {},
   "source": [
    "- Una de las mayores ventajas de entrenar un árbol de decisión y mejor aún un random forest, es que podemos ver cuáles son nuestras variables más importantes. "
   ]
  },
  {
   "cell_type": "code",
   "execution_count": 29,
   "metadata": {},
   "outputs": [
    {
     "data": {
      "image/png": "[encoded data removed]",
      "text/plain": [
       "<Figure size 576x864 with 1 Axes>"
      ]
     },
     "metadata": {
      "needs_background": "light"
     },
     "output_type": "display_data"
    }
   ],
   "source": [
    "#Saquemos los valores más importantes \n",
    "importances = rnd_clf.feature_importances_\n",
    "cols = X_train.columns\n",
    "plt.figure(figsize=(8,12))\n",
    "indices = np.argsort(importances)\n",
    "plt.title('Feature Importances')\n",
    "plt.barh(range(len(indices)), importances[indices], align = 'center')\n",
    "plt.yticks(range(len(indices)),[cols[i] for i in indices])\n",
    "plt.xlabel('Relative Importance')\n",
    "plt.show()"
   ]
  },
  {
   "cell_type": "markdown",
   "metadata": {},
   "source": [
    "- Acá es cuando yo veo y evalúo si puedo o debo crear más features para mejorar el modelo o no."
   ]
  },
  {
   "cell_type": "code",
   "execution_count": 32,
   "metadata": {},
   "outputs": [
    {
     "data": {
      "text/plain": [
       "0.832089552238806"
      ]
     },
     "execution_count": 32,
     "metadata": {},
     "output_type": "execute_result"
    }
   ],
   "source": [
    "X_train_2 = X_train.drop(['Viaja_solo','es_niño'],axis=1)\n",
    "rnd_clf.fit(X_train_2,y_train)\n",
    "rnd_clf.score(X_test.drop(['Viaja_solo','es_niño'],axis=1),y_test)"
   ]
  },
  {
   "cell_type": "markdown",
   "metadata": {},
   "source": [
    "### Agregando rápidamente otro modelo: SupportVectorClassifier"
   ]
  },
  {
   "cell_type": "code",
   "execution_count": 46,
   "metadata": {},
   "outputs": [
    {
     "data": {
      "text/plain": [
       "0.8283582089552238"
      ]
     },
     "execution_count": 46,
     "metadata": {},
     "output_type": "execute_result"
    }
   ],
   "source": [
    "from sklearn.svm import SVC\n",
    "svc = SVC(probability=True)\n",
    "\n",
    "svc.fit(X_train,y_train)\n",
    "svc_predict = svc.predict(X_test)\n",
    "\n",
    "accuracy_score(y_test,svc_predict)"
   ]
  },
  {
   "cell_type": "markdown",
   "metadata": {},
   "source": [
    "### Curvas ROC ¿Qué modelo tiene un mejor performance?"
   ]
  },
  {
   "cell_type": "code",
   "execution_count": 55,
   "metadata": {},
   "outputs": [],
   "source": [
    "clasificadores = [logreg, tree_clf, rnd_clf, svc]\n",
    "\n",
    "tabla_resultados = pd.DataFrame(columns=['clasificadores', 'fpr','tpr','auc'])\n",
    "\n",
    "for cls in clasificadores:\n",
    "    model = cls.fit(X_train, y_train)\n",
    "    yproba = model.predict_proba(X_test)[::,1]\n",
    "    \n",
    "    fpr, tpr, _ = roc_curve(y_test,  yproba)\n",
    "    auc = roc_auc_score(y_test, yproba)\n",
    "    \n",
    "    tabla_resultados = tabla_resultados.append({'clasificadores':None,\n",
    "                                        'fpr':fpr, \n",
    "                                        'tpr':tpr, \n",
    "                                        'auc':auc}, ignore_index=True)\n"
   ]
  },
  {
   "cell_type": "code",
   "execution_count": 57,
   "metadata": {},
   "outputs": [
    {
     "data": {
      "text/html": [
       "<div>\n",
       "<style scoped>\n",
       "    .dataframe tbody tr th:only-of-type {\n",
       "        vertical-align: middle;\n",
       "    }\n",
       "\n",
       "    .dataframe tbody tr th {\n",
       "        vertical-align: top;\n",
       "    }\n",
       "\n",
       "    .dataframe thead th {\n",
       "        text-align: right;\n",
       "    }\n",
       "</style>\n",
       "<table border=\"1\" class=\"dataframe\">\n",
       "  <thead>\n",
       "    <tr style=\"text-align: right;\">\n",
       "      <th></th>\n",
       "      <th>fpr</th>\n",
       "      <th>tpr</th>\n",
       "      <th>auc</th>\n",
       "    </tr>\n",
       "    <tr>\n",
       "      <th>clasificadores</th>\n",
       "      <th></th>\n",
       "      <th></th>\n",
       "      <th></th>\n",
       "    </tr>\n",
       "  </thead>\n",
       "  <tbody>\n",
       "    <tr>\n",
       "      <th>RegresionLogistica</th>\n",
       "      <td>[0.0, 0.0, 0.0, 0.006211180124223602, 0.006211...</td>\n",
       "      <td>[0.0, 0.009345794392523364, 0.3644859813084112...</td>\n",
       "      <td>0.882945</td>\n",
       "    </tr>\n",
       "    <tr>\n",
       "      <th>ArbolDecision</th>\n",
       "      <td>[0.0, 0.012422360248447204, 0.0124223602484472...</td>\n",
       "      <td>[0.0, 0.4392523364485981, 0.5233644859813084, ...</td>\n",
       "      <td>0.869797</td>\n",
       "    </tr>\n",
       "    <tr>\n",
       "      <th>RandomForest</th>\n",
       "      <td>[0.0, 0.0, 0.0, 0.006211180124223602, 0.006211...</td>\n",
       "      <td>[0.0, 0.009345794392523364, 0.4018691588785046...</td>\n",
       "      <td>0.900621</td>\n",
       "    </tr>\n",
       "    <tr>\n",
       "      <th>SVC</th>\n",
       "      <td>[0.0, 0.0, 0.0, 0.018633540372670808, 0.018633...</td>\n",
       "      <td>[0.0, 0.009345794392523364, 0.1962616822429906...</td>\n",
       "      <td>0.831282</td>\n",
       "    </tr>\n",
       "  </tbody>\n",
       "</table>\n",
       "</div>"
      ],
      "text/plain": [
       "                                                                  fpr  \\\n",
       "clasificadores                                                          \n",
       "RegresionLogistica  [0.0, 0.0, 0.0, 0.006211180124223602, 0.006211...   \n",
       "ArbolDecision       [0.0, 0.012422360248447204, 0.0124223602484472...   \n",
       "RandomForest        [0.0, 0.0, 0.0, 0.006211180124223602, 0.006211...   \n",
       "SVC                 [0.0, 0.0, 0.0, 0.018633540372670808, 0.018633...   \n",
       "\n",
       "                                                                  tpr  \\\n",
       "clasificadores                                                          \n",
       "RegresionLogistica  [0.0, 0.009345794392523364, 0.3644859813084112...   \n",
       "ArbolDecision       [0.0, 0.4392523364485981, 0.5233644859813084, ...   \n",
       "RandomForest        [0.0, 0.009345794392523364, 0.4018691588785046...   \n",
       "SVC                 [0.0, 0.009345794392523364, 0.1962616822429906...   \n",
       "\n",
       "                         auc  \n",
       "clasificadores                \n",
       "RegresionLogistica  0.882945  \n",
       "ArbolDecision       0.869797  \n",
       "RandomForest        0.900621  \n",
       "SVC                 0.831282  "
      ]
     },
     "execution_count": 57,
     "metadata": {},
     "output_type": "execute_result"
    }
   ],
   "source": [
    "tabla_resultados['clasificadores'] = ['RegresionLogistica','ArbolDecision','RandomForest','SVC']\n",
    "tabla_resultados.set_index('clasificadores', inplace=True)\n",
    "tabla_resultados"
   ]
  },
  {
   "cell_type": "code",
   "execution_count": 65,
   "metadata": {
    "_kg_hide-output": true
   },
   "outputs": [
    {
     "data": {
      "image/png": "[encoded data removed]",
      "text/plain": [
       "<Figure size 576x432 with 1 Axes>"
      ]
     },
     "metadata": {
      "needs_background": "light"
     },
     "output_type": "display_data"
    }
   ],
   "source": [
    "fig = plt.figure(figsize=(8,6))\n",
    "\n",
    "for i in tabla_resultados.index:\n",
    "    plt.plot(tabla_resultados.loc[i]['fpr'], \n",
    "             tabla_resultados.loc[i]['tpr'], \n",
    "             label=\"{}, AUC={:.3f}\".format(i, tabla_resultados.loc[i]['auc']))\n",
    "    \n",
    "plt.plot([0,1], [0,1], color='orange', linestyle='--')\n",
    "\n",
    "plt.xticks(np.arange(0.0, 1.1, step=0.1))\n",
    "plt.xlabel(\"Falsos Positivos\", fontsize=15)\n",
    "\n",
    "plt.yticks(np.arange(0.0, 1.1, step=0.1))\n",
    "plt.ylabel(\"Verdaderos Positivos\", fontsize=15)\n",
    "\n",
    "plt.title('Análisis de la curva ROC', fontweight='bold', fontsize=15)\n",
    "plt.legend(prop={'size':12}, loc='lower right')\n",
    "\n",
    "plt.show()"
   ]
  },
  {
   "cell_type": "code",
   "execution_count": null,
   "metadata": {},
   "outputs": [],
   "source": []
  },
  {
   "cell_type": "code",
   "execution_count": null,
   "metadata": {},
   "outputs": [],
   "source": []
  },
  {
   "cell_type": "markdown",
   "metadata": {
    "_kg_hide-output": true,
    "collapsed": true
   },
   "source": [
    "## Haciendo submit a mis predicciones"
   ]
  },
  {
   "cell_type": "code",
   "execution_count": null,
   "metadata": {},
   "outputs": [],
   "source": [
    "#Falta hacer función que nos permita hacer un csv con la forma que nos pide la competencia de kaggle.\n",
    "preds = model.predict(X_test)"
   ]
  },
  {
   "cell_type": "code",
   "execution_count": null,
   "metadata": {},
   "outputs": [],
   "source": [
    "sub = pd.read_csv('gender_submission.csv')"
   ]
  },
  {
   "cell_type": "code",
   "execution_count": null,
   "metadata": {},
   "outputs": [],
   "source": [
    "sub['Survived'] = pred"
   ]
  },
  {
   "cell_type": "code",
   "execution_count": null,
   "metadata": {},
   "outputs": [],
   "source": [
    "sub.to_csv('submission.csv')"
   ]
  },
  {
   "cell_type": "code",
   "execution_count": null,
   "metadata": {},
   "outputs": [],
   "source": [
    "sub.index = sub.PassengerId"
   ]
  },
  {
   "cell_type": "code",
   "execution_count": null,
   "metadata": {},
   "outputs": [],
   "source": [
    "sub.drop('PassengerId',axis=1)"
   ]
  },
  {
   "cell_type": "code",
   "execution_count": null,
   "metadata": {},
   "outputs": [],
   "source": []
  }
 ],
 "metadata": {
  "kernelspec": {
   "display_name": "Python 3",
   "language": "python",
   "name": "python3"
  },
  "language_info": {
   "codemirror_mode": {
    "name": "ipython",
    "version": 3
   },
   "file_extension": ".py",
   "mimetype": "text/x-python",
   "name": "python",
   "nbconvert_exporter": "python",
   "pygments_lexer": "ipython3",
   "version": "3.6.8"
  }
 },
 "nbformat": 4,
 "nbformat_minor": 1
}
